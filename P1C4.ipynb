{
 "cells": [
  {
   "cell_type": "markdown",
   "id": "49f10dc7",
   "metadata": {},
   "source": [
    "# List"
   ]
  },
  {
   "cell_type": "code",
   "execution_count": 1,
   "id": "377c6b59",
   "metadata": {},
   "outputs": [
    {
     "name": "stdout",
     "output_type": "stream",
     "text": [
      "['apple', 'banana', 'cherry']\n"
     ]
    }
   ],
   "source": [
    "thislist = [\"apple\", \"banana\", \"cherry\"]\n",
    "print(thislist)"
   ]
  },
  {
   "cell_type": "markdown",
   "id": "534c09a2",
   "metadata": {},
   "source": [
    " #Lists are used to store multiple items in a single variable\n"
   ]
  },
  {
   "cell_type": "code",
   "execution_count": 3,
   "id": "515442fb",
   "metadata": {},
   "outputs": [
    {
     "name": "stdout",
     "output_type": "stream",
     "text": [
      "['nabin', 14, 255.66]\n"
     ]
    }
   ],
   "source": [
    "llist=['nabin',14,255.66] \n",
    "print(llist)"
   ]
  },
  {
   "cell_type": "markdown",
   "id": "71deb04e",
   "metadata": {},
   "source": [
    "Lists are one of 4 built-in data types in Python used to store collections of data, the other 3 are Tuple, Set, and Dictionary, all with different qualities and usage"
   ]
  },
  {
   "cell_type": "code",
   "execution_count": 4,
   "id": "f3fe44c2",
   "metadata": {},
   "outputs": [
    {
     "data": {
      "text/plain": [
       "list"
      ]
     },
     "execution_count": 4,
     "metadata": {},
     "output_type": "execute_result"
    }
   ],
   "source": [
    "type(llist)"
   ]
  },
  {
   "cell_type": "code",
   "execution_count": 5,
   "id": "bb01f653",
   "metadata": {},
   "outputs": [
    {
     "name": "stdout",
     "output_type": "stream",
     "text": [
      "Enter your name: Nabin\n",
      "Enter Your Roll No: 55\n",
      "Enter Your Roll No: 55\n",
      "['Nabin', 55, 55]\n"
     ]
    }
   ],
   "source": [
    "x=input(\"Enter your name: \")\n",
    "y=int(input(\"Enter Your Roll No: \"))\n",
    "z=int(input(\"Enter Your Roll No: \"))\n",
    "lst=[x,y,z]\n",
    "print(lst)"
   ]
  },
  {
   "cell_type": "code",
   "execution_count": 9,
   "id": "bbdbccac",
   "metadata": {},
   "outputs": [
    {
     "name": "stdout",
     "output_type": "stream",
     "text": [
      "Nabin Acharya\n"
     ]
    }
   ],
   "source": [
    "n=[55,1,2,3,4,'Nabin','Acharya']\n",
    "print(n[5]+' '+n[6])\n"
   ]
  },
  {
   "cell_type": "code",
   "execution_count": 16,
   "id": "fab43f91",
   "metadata": {},
   "outputs": [],
   "source": [
    "lst1=[]\n",
    "lst1.append('cod')\n"
   ]
  },
  {
   "cell_type": "code",
   "execution_count": 18,
   "id": "0eaf622e",
   "metadata": {},
   "outputs": [
    {
     "name": "stdout",
     "output_type": "stream",
     "text": [
      "['cod', 'neoal', 'nabin', 'python', 'code library', 'neoal', 'nabin', 'python', 'code library']\n"
     ]
    }
   ],
   "source": [
    "lst1.append('neoal')\n",
    "lst1.append('nabin')\n",
    "lst1.append('python')\n",
    "lst1.append('code library')\n",
    "\n"
   ]
  },
  {
   "cell_type": "code",
   "execution_count": 19,
   "id": "8e52f0c4",
   "metadata": {},
   "outputs": [
    {
     "name": "stdout",
     "output_type": "stream",
     "text": [
      "['cod', 'neoal', 'Acharya', 'nabin', 'python', 'code library', 'neoal', 'nabin', 'python', 'code library']\n"
     ]
    }
   ],
   "source": [
    "lst1.insert(2,'Acharya')#Insert add the list in patriculer address or positon like 2,code add the value in 2\n",
    "print(lst1)"
   ]
  },
  {
   "cell_type": "code",
   "execution_count": 20,
   "id": "34d9b70b",
   "metadata": {},
   "outputs": [
    {
     "name": "stdout",
     "output_type": "stream",
     "text": [
      "['cod', 'Code', 'Acharya', 'nabin', 'python', 'code library', 'neoal', 'nabin', 'python', 'code library']\n"
     ]
    }
   ],
   "source": [
    "lst1[1]='Code'#Change the value of list using lst1 and perticular position\n",
    "print(lst1)"
   ]
  },
  {
   "cell_type": "code",
   "execution_count": 21,
   "id": "56abe061",
   "metadata": {},
   "outputs": [
    {
     "name": "stdout",
     "output_type": "stream",
     "text": [
      "['cod', 'Code', 'Acharya', 'nabin', 'Python mega coures', 'code library', 'neoal', 'nabin', 'python', 'code library']\n"
     ]
    }
   ],
   "source": [
    "lst1[4]='Python mega coures'\n",
    "print(lst1)"
   ]
  },
  {
   "cell_type": "code",
   "execution_count": 23,
   "id": "fee870aa",
   "metadata": {},
   "outputs": [
    {
     "data": {
      "text/plain": [
       "['code library', 'neoal', 'nabin']"
      ]
     },
     "execution_count": 23,
     "metadata": {},
     "output_type": "execute_result"
    }
   ],
   "source": [
    "lst1[5:8]"
   ]
  },
  {
   "cell_type": "code",
   "execution_count": 26,
   "id": "29915fbc",
   "metadata": {},
   "outputs": [
    {
     "name": "stdout",
     "output_type": "stream",
     "text": [
      "['cod', 'Code', 'Acharya', 'nabin', 'Python mega coures', 'code', 'usa', '2025', 'python', 'code library']\n"
     ]
    }
   ],
   "source": [
    "lst1[5:8]=['code','usa','2025']#Change the value of list code library - python to code usa 2025\n",
    "print(lst1)"
   ]
  },
  {
   "cell_type": "code",
   "execution_count": 35,
   "id": "3cf4ce2d",
   "metadata": {},
   "outputs": [
    {
     "name": "stdout",
     "output_type": "stream",
     "text": [
      "['cod', 'nabin', 'Python mega coures', 'usa', '2025', 'python', 'code library']\n"
     ]
    }
   ],
   "source": [
    "lst1.remove('Code')\n",
    "print(lst1)\n"
   ]
  },
  {
   "cell_type": "code",
   "execution_count": 36,
   "id": "9064ca3e",
   "metadata": {},
   "outputs": [],
   "source": [
    "lst1.clear()#Clear antire list"
   ]
  },
  {
   "cell_type": "code",
   "execution_count": 37,
   "id": "8c2e690c",
   "metadata": {},
   "outputs": [
    {
     "data": {
      "text/plain": [
       "[]"
      ]
     },
     "execution_count": 37,
     "metadata": {},
     "output_type": "execute_result"
    }
   ],
   "source": [
    "lst1"
   ]
  },
  {
   "cell_type": "code",
   "execution_count": 38,
   "id": "ab7b9abd",
   "metadata": {},
   "outputs": [
    {
     "data": {
      "text/plain": [
       "['apple', 'banana', 'cherry']"
      ]
     },
     "execution_count": 38,
     "metadata": {},
     "output_type": "execute_result"
    }
   ],
   "source": [
    "thislist"
   ]
  },
  {
   "cell_type": "code",
   "execution_count": 39,
   "id": "eb8f3aaf",
   "metadata": {},
   "outputs": [
    {
     "data": {
      "text/plain": [
       "'cherry'"
      ]
     },
     "execution_count": 39,
     "metadata": {},
     "output_type": "execute_result"
    }
   ],
   "source": [
    "thislist.pop()# remove the list from last and element of list"
   ]
  },
  {
   "cell_type": "code",
   "execution_count": 40,
   "id": "5ee93a58",
   "metadata": {},
   "outputs": [
    {
     "data": {
      "text/plain": [
       "False"
      ]
     },
     "execution_count": 40,
     "metadata": {},
     "output_type": "execute_result"
    }
   ],
   "source": [
    "1 in thislist"
   ]
  },
  {
   "cell_type": "code",
   "execution_count": 42,
   "id": "040f8022",
   "metadata": {},
   "outputs": [
    {
     "data": {
      "text/plain": [
       "True"
      ]
     },
     "execution_count": 42,
     "metadata": {},
     "output_type": "execute_result"
    }
   ],
   "source": [
    "'apple' in thislist"
   ]
  },
  {
   "cell_type": "markdown",
   "id": "9b40f94b",
   "metadata": {},
   "source": [
    "# Python Dictionaries"
   ]
  },
  {
   "cell_type": "code",
   "execution_count": 51,
   "id": "2d8c3053",
   "metadata": {},
   "outputs": [
    {
     "name": "stdout",
     "output_type": "stream",
     "text": [
      "{'Name': 'Nabin', 'RollNo': '19', 'From': 'Palpa', 'Semister': '3'}\n"
     ]
    }
   ],
   "source": [
    "thisdict = {\n",
    "  \"Name\": \"Nabin\",\n",
    "  \"RollNo\": \"19\",\n",
    "  \"From\": 'Palpa',\n",
    "    \"Semister\": '3'}\n",
    "print(thisdict)\n"
   ]
  },
  {
   "cell_type": "code",
   "execution_count": 53,
   "id": "8f0233c6",
   "metadata": {},
   "outputs": [
    {
     "data": {
      "text/plain": [
       "dict_keys(['Name', 'RollNo', 'From', 'Semister'])"
      ]
     },
     "execution_count": 53,
     "metadata": {},
     "output_type": "execute_result"
    }
   ],
   "source": [
    "thisdict.keys()#Shows the key of dictionari"
   ]
  },
  {
   "cell_type": "code",
   "execution_count": 55,
   "id": "d038393f",
   "metadata": {},
   "outputs": [
    {
     "data": {
      "text/plain": [
       "'Nabin'"
      ]
     },
     "execution_count": 55,
     "metadata": {},
     "output_type": "execute_result"
    }
   ],
   "source": [
    "thisdict['Name'] #Show the dictionari value"
   ]
  },
  {
   "cell_type": "code",
   "execution_count": 57,
   "id": "82c50d84",
   "metadata": {},
   "outputs": [
    {
     "name": "stdout",
     "output_type": "stream",
     "text": [
      "{'Name': 'Nabin', 'RollNo': 11, 'From': 'Palpa', 'Semister': '3'}\n"
     ]
    }
   ],
   "source": [
    "thisdict[\"RollNo\"] = 11 #Change the value of dictionari\n",
    "print(thisdict)"
   ]
  },
  {
   "cell_type": "code",
   "execution_count": 58,
   "id": "fea167da",
   "metadata": {},
   "outputs": [
    {
     "data": {
      "text/plain": [
       "dict_values(['Nabin', 11, 'Palpa', '3'])"
      ]
     },
     "execution_count": 58,
     "metadata": {},
     "output_type": "execute_result"
    }
   ],
   "source": [
    "thisdict.values()#Shows the values of dictionari"
   ]
  },
  {
   "cell_type": "code",
   "execution_count": 61,
   "id": "c7c585eb",
   "metadata": {},
   "outputs": [
    {
     "data": {
      "text/plain": [
       "{'Name': 'Nabin',\n",
       " 'RollNo': 11,\n",
       " 'From': 'Palpa',\n",
       " 'Semister': '3',\n",
       " 'Remarks': 'Topper'}"
      ]
     },
     "execution_count": 61,
     "metadata": {},
     "output_type": "execute_result"
    }
   ],
   "source": [
    "thisdict['Remarks']='Topper' #Add the value in dictionary\n",
    "thisdict"
   ]
  },
  {
   "cell_type": "code",
   "execution_count": 63,
   "id": "f3110f23",
   "metadata": {},
   "outputs": [
    {
     "data": {
      "text/plain": [
       "'Topper'"
      ]
     },
     "execution_count": 63,
     "metadata": {},
     "output_type": "execute_result"
    }
   ],
   "source": [
    "thisdict.pop('Remarks')"
   ]
  },
  {
   "cell_type": "code",
   "execution_count": 64,
   "id": "e0746d32",
   "metadata": {},
   "outputs": [
    {
     "data": {
      "text/plain": [
       "{'Name': 'Nabin', 'RollNo': 11, 'From': 'Palpa', 'Semister': '3'}"
      ]
     },
     "execution_count": 64,
     "metadata": {},
     "output_type": "execute_result"
    }
   ],
   "source": [
    "thisdict"
   ]
  },
  {
   "cell_type": "markdown",
   "id": "3fa673ea",
   "metadata": {},
   "source": [
    "Copy whole dictionary\n"
   ]
  },
  {
   "cell_type": "code",
   "execution_count": 65,
   "id": "31bc1fa2",
   "metadata": {},
   "outputs": [],
   "source": [
    "copythisdict=thisdict.copy()"
   ]
  },
  {
   "cell_type": "code",
   "execution_count": 66,
   "id": "5b3c1fab",
   "metadata": {},
   "outputs": [
    {
     "data": {
      "text/plain": [
       "{'Name': 'Nabin', 'RollNo': 11, 'From': 'Palpa', 'Semister': '3'}"
      ]
     },
     "execution_count": 66,
     "metadata": {},
     "output_type": "execute_result"
    }
   ],
   "source": [
    "copythisdict"
   ]
  },
  {
   "cell_type": "code",
   "execution_count": 67,
   "id": "62f2f4e6",
   "metadata": {},
   "outputs": [],
   "source": [
    "thisdict.update({'Reg. no':'5566'})#Update the dictionary"
   ]
  },
  {
   "cell_type": "code",
   "execution_count": 68,
   "id": "a44ef208",
   "metadata": {},
   "outputs": [
    {
     "data": {
      "text/plain": [
       "{'Name': 'Nabin',\n",
       " 'RollNo': 11,\n",
       " 'From': 'Palpa',\n",
       " 'Semister': '3',\n",
       " 'Reg. no': '5566'}"
      ]
     },
     "execution_count": 68,
     "metadata": {},
     "output_type": "execute_result"
    }
   ],
   "source": [
    "thisdict"
   ]
  },
  {
   "cell_type": "markdown",
   "id": "f50dd890",
   "metadata": {},
   "source": [
    "# Tuple\n"
   ]
  },
  {
   "cell_type": "code",
   "execution_count": null,
   "id": "1fa3de4c",
   "metadata": {},
   "outputs": [],
   "source": []
  }
 ],
 "metadata": {
  "kernelspec": {
   "display_name": "Python 3 (ipykernel)",
   "language": "python",
   "name": "python3"
  },
  "language_info": {
   "codemirror_mode": {
    "name": "ipython",
    "version": 3
   },
   "file_extension": ".py",
   "mimetype": "text/x-python",
   "name": "python",
   "nbconvert_exporter": "python",
   "pygments_lexer": "ipython3",
   "version": "3.11.1"
  }
 },
 "nbformat": 4,
 "nbformat_minor": 5
}
