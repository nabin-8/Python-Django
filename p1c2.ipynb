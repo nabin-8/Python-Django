{
 "cells": [
  {
   "cell_type": "code",
   "execution_count": 1,
   "id": "7271f02a",
   "metadata": {},
   "outputs": [
    {
     "name": "stdout",
     "output_type": "stream",
     "text": [
      "Enter Your Name: Nabin\n"
     ]
    }
   ],
   "source": [
    "num= input('Enter Your Name: ')"
   ]
  },
  {
   "cell_type": "code",
   "execution_count": 9,
   "id": "8b952336",
   "metadata": {},
   "outputs": [],
   "source": [
    "x= 'Hexcod\\n'"
   ]
  },
  {
   "cell_type": "code",
   "execution_count": 10,
   "id": "74a8546e",
   "metadata": {},
   "outputs": [],
   "source": [
    "y= 'Nepal'"
   ]
  },
  {
   "cell_type": "code",
   "execution_count": 11,
   "id": "b19f985f",
   "metadata": {},
   "outputs": [],
   "source": [
    "z =x+y"
   ]
  },
  {
   "cell_type": "code",
   "execution_count": 12,
   "id": "0469eb01",
   "metadata": {},
   "outputs": [
    {
     "name": "stdout",
     "output_type": "stream",
     "text": [
      "Hexcod\n",
      "Nepal\n"
     ]
    }
   ],
   "source": [
    "print(z)"
   ]
  },
  {
   "cell_type": "code",
   "execution_count": 18,
   "id": "60f0d837",
   "metadata": {},
   "outputs": [
    {
     "name": "stdout",
     "output_type": "stream",
     "text": [
      "Enter Your First Name:Nabin\n",
      "Enter Your Second Name:Acharya\n",
      "Full Name NabinAcharya\n"
     ]
    }
   ],
   "source": [
    "first=input('Enter Your First Name:')\n",
    "sec=input('Enter Your Second Name:')\n",
    "full= first+sec\n",
    "print('Full Name '+ full)"
   ]
  },
  {
   "cell_type": "code",
   "execution_count": 19,
   "id": "cc921663",
   "metadata": {},
   "outputs": [
    {
     "name": "stdout",
     "output_type": "stream",
     "text": [
      "Your Name is Nabin Acharya\n"
     ]
    }
   ],
   "source": [
    "print(\"Your Name is \"+first+ ' '+ sec)"
   ]
  },
  {
   "cell_type": "code",
   "execution_count": 21,
   "id": "904e04cc",
   "metadata": {},
   "outputs": [
    {
     "name": "stdout",
     "output_type": "stream",
     "text": [
      "Enter first number: 66\n",
      "Enter Second number: 5\n",
      "The sum of any two numbers is  71\n"
     ]
    }
   ],
   "source": [
    "num = int(input('Enter first number: '))\n",
    "num2 = int(input('Enter Second number: '))\n",
    "v = num+num2\n",
    "print('The sum of any two numbers is ', v)"
   ]
  },
  {
   "cell_type": "code",
   "execution_count": 22,
   "id": "0f624170",
   "metadata": {},
   "outputs": [
    {
     "name": "stdout",
     "output_type": "stream",
     "text": [
      "6\n"
     ]
    }
   ],
   "source": [
    "m =[1,2,3]\n",
    "n =sum(m)\n",
    "print(n)"
   ]
  },
  {
   "cell_type": "code",
   "execution_count": 24,
   "id": "449a98ea",
   "metadata": {},
   "outputs": [
    {
     "name": "stdout",
     "output_type": "stream",
     "text": [
      "Enter first number: 55\n",
      "Enter Second number: 6\n",
      "Different is 49.0\n"
     ]
    }
   ],
   "source": [
    "num3 = float(input('Enter first number: '))\n",
    "num4 = float(input('Enter Second number: '))\n",
    "num5=num3-num4\n",
    "print('Different is', num5)"
   ]
  },
  {
   "cell_type": "code",
   "execution_count": 26,
   "id": "36738d48",
   "metadata": {},
   "outputs": [
    {
     "name": "stdout",
     "output_type": "stream",
     "text": [
      "Enter first number: 55\n",
      "Enter Second number: 4\n",
      "Multiplication is 220.0\n"
     ]
    }
   ],
   "source": [
    "num6 = float(input('Enter first number: '))\n",
    "num7 = float(input('Enter Second number: '))\n",
    "num8=num6*num7\n",
    "print('Multiplication is', num8)"
   ]
  },
  {
   "cell_type": "code",
   "execution_count": null,
   "id": "eceb30ef",
   "metadata": {},
   "outputs": [],
   "source": [
    "# ** Defines power\n",
    "num6**num7"
   ]
  },
  {
   "cell_type": "code",
   "execution_count": null,
   "id": "a8e3038a",
   "metadata": {},
   "outputs": [],
   "source": [
    "#/ => Division\n",
    "#// => Floor Division\n",
    "#% => Modulus\n",
    "'''\n",
    "jnjknknl\n",
    "dcjdbsjhbcjd\n",
    "lkcdkwlknclk\n",
    "dm,c s \n",
    "'''"
   ]
  },
  {
   "cell_type": "code",
   "execution_count": null,
   "id": "e407ae60",
   "metadata": {},
   "outputs": [],
   "source": []
  }
 ],
 "metadata": {
  "kernelspec": {
   "display_name": "Python 3 (ipykernel)",
   "language": "python",
   "name": "python3"
  },
  "language_info": {
   "codemirror_mode": {
    "name": "ipython",
    "version": 3
   },
   "file_extension": ".py",
   "mimetype": "text/x-python",
   "name": "python",
   "nbconvert_exporter": "python",
   "pygments_lexer": "ipython3",
   "version": "3.11.1"
  }
 },
 "nbformat": 4,
 "nbformat_minor": 5
}
