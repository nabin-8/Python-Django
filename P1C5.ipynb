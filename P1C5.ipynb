{
 "cells": [
  {
   "cell_type": "markdown",
   "id": "4e196a4e",
   "metadata": {},
   "source": [
    "# Tuples\n"
   ]
  },
  {
   "cell_type": "code",
   "execution_count": 1,
   "id": "61100bf6",
   "metadata": {},
   "outputs": [],
   "source": [
    "tup=('sai',55,'Hem','sai')#We can store same data in tuples"
   ]
  },
  {
   "cell_type": "code",
   "execution_count": 2,
   "id": "73ea9ebd",
   "metadata": {},
   "outputs": [
    {
     "data": {
      "text/plain": [
       "('sai', 55, 'Hem', 'sai')"
      ]
     },
     "execution_count": 2,
     "metadata": {},
     "output_type": "execute_result"
    }
   ],
   "source": [
    "tup"
   ]
  },
  {
   "cell_type": "code",
   "execution_count": 4,
   "id": "e7b62ba6",
   "metadata": {},
   "outputs": [
    {
     "data": {
      "text/plain": [
       "4"
      ]
     },
     "execution_count": 4,
     "metadata": {},
     "output_type": "execute_result"
    }
   ],
   "source": [
    "len(tup)#We can Count tuples using len"
   ]
  },
  {
   "cell_type": "code",
   "execution_count": 6,
   "id": "6c61531d",
   "metadata": {},
   "outputs": [
    {
     "data": {
      "text/plain": [
       "('Hem', 'sai')"
      ]
     },
     "execution_count": 6,
     "metadata": {},
     "output_type": "execute_result"
    }
   ],
   "source": [
    "tup[2:5]"
   ]
  },
  {
   "cell_type": "markdown",
   "id": "1f0b2148",
   "metadata": {},
   "source": [
    "Tuples are used to store multiple items in a single variable."
   ]
  },
  {
   "cell_type": "code",
   "execution_count": 8,
   "id": "a993c955",
   "metadata": {},
   "outputs": [
    {
     "data": {
      "text/plain": [
       "2"
      ]
     },
     "execution_count": 8,
     "metadata": {},
     "output_type": "execute_result"
    }
   ],
   "source": [
    "tup.count('sai')#Count is count the data of tuple"
   ]
  },
  {
   "cell_type": "code",
   "execution_count": 10,
   "id": "ee8479b6",
   "metadata": {},
   "outputs": [],
   "source": [
    "tup=list(tup) #used to change tuple to list"
   ]
  },
  {
   "cell_type": "code",
   "execution_count": 11,
   "id": "4f87c125",
   "metadata": {},
   "outputs": [
    {
     "data": {
      "text/plain": [
       "list"
      ]
     },
     "execution_count": 11,
     "metadata": {},
     "output_type": "execute_result"
    }
   ],
   "source": [
    "type(tup)"
   ]
  },
  {
   "cell_type": "code",
   "execution_count": 13,
   "id": "e69a071c",
   "metadata": {},
   "outputs": [],
   "source": [
    "tup.append(\"sai\")"
   ]
  },
  {
   "cell_type": "code",
   "execution_count": 14,
   "id": "ae641501",
   "metadata": {},
   "outputs": [
    {
     "data": {
      "text/plain": [
       "['sai', 55, 'Hem', 'sai', 'sai']"
      ]
     },
     "execution_count": 14,
     "metadata": {},
     "output_type": "execute_result"
    }
   ],
   "source": [
    "tup\n"
   ]
  },
  {
   "cell_type": "code",
   "execution_count": 15,
   "id": "c3b1aa9e",
   "metadata": {},
   "outputs": [],
   "source": [
    "tup=tuple(tup)#used to change tuple to list just opposite to it"
   ]
  },
  {
   "cell_type": "code",
   "execution_count": 16,
   "id": "6a2c4c4c",
   "metadata": {},
   "outputs": [
    {
     "data": {
      "text/plain": [
       "tuple"
      ]
     },
     "execution_count": 16,
     "metadata": {},
     "output_type": "execute_result"
    }
   ],
   "source": [
    "type(tup)"
   ]
  },
  {
   "cell_type": "code",
   "execution_count": 17,
   "id": "26df6bf1",
   "metadata": {},
   "outputs": [],
   "source": [
    "z=('Nabin',)# single element tuple"
   ]
  },
  {
   "cell_type": "code",
   "execution_count": 18,
   "id": "54da8d77",
   "metadata": {},
   "outputs": [
    {
     "data": {
      "text/plain": [
       "('Nabin',)"
      ]
     },
     "execution_count": 18,
     "metadata": {},
     "output_type": "execute_result"
    }
   ],
   "source": [
    "z"
   ]
  },
  {
   "cell_type": "markdown",
   "id": "46667006",
   "metadata": {},
   "source": [
    "# Set"
   ]
  },
  {
   "cell_type": "code",
   "execution_count": 19,
   "id": "4584b92b",
   "metadata": {},
   "outputs": [],
   "source": [
    "s1={1,2,3,4,5,6}"
   ]
  },
  {
   "cell_type": "code",
   "execution_count": 20,
   "id": "73c0d634",
   "metadata": {},
   "outputs": [
    {
     "data": {
      "text/plain": [
       "set"
      ]
     },
     "execution_count": 20,
     "metadata": {},
     "output_type": "execute_result"
    }
   ],
   "source": [
    "type(s1)"
   ]
  },
  {
   "cell_type": "code",
   "execution_count": 21,
   "id": "4f3b903a",
   "metadata": {},
   "outputs": [],
   "source": [
    "s2={1,2,3,3,4,5,6,5,} #set dosnot allow dublicates"
   ]
  },
  {
   "cell_type": "code",
   "execution_count": 22,
   "id": "2e975c7d",
   "metadata": {},
   "outputs": [
    {
     "data": {
      "text/plain": [
       "{1, 2, 3, 4, 5, 6}"
      ]
     },
     "execution_count": 22,
     "metadata": {},
     "output_type": "execute_result"
    }
   ],
   "source": [
    "type(s2)\n",
    "s2"
   ]
  },
  {
   "cell_type": "code",
   "execution_count": 23,
   "id": "699b0d75",
   "metadata": {},
   "outputs": [
    {
     "data": {
      "text/plain": [
       "6"
      ]
     },
     "execution_count": 23,
     "metadata": {},
     "output_type": "execute_result"
    }
   ],
   "source": [
    "len(s2)"
   ]
  },
  {
   "cell_type": "code",
   "execution_count": 24,
   "id": "b91c4ce5",
   "metadata": {},
   "outputs": [
    {
     "data": {
      "text/plain": [
       "6"
      ]
     },
     "execution_count": 24,
     "metadata": {},
     "output_type": "execute_result"
    }
   ],
   "source": [
    "len(s1)"
   ]
  },
  {
   "cell_type": "code",
   "execution_count": 25,
   "id": "5906405b",
   "metadata": {},
   "outputs": [],
   "source": [
    "s2.add('hello')# we can add using add in set"
   ]
  },
  {
   "cell_type": "code",
   "execution_count": 26,
   "id": "19181041",
   "metadata": {},
   "outputs": [
    {
     "data": {
      "text/plain": [
       "{1, 2, 3, 4, 5, 6, 'hello'}"
      ]
     },
     "execution_count": 26,
     "metadata": {},
     "output_type": "execute_result"
    }
   ],
   "source": [
    "s2"
   ]
  },
  {
   "cell_type": "code",
   "execution_count": 27,
   "id": "3de34b48",
   "metadata": {},
   "outputs": [],
   "source": [
    "s2.remove(6) #used to remove data in set"
   ]
  },
  {
   "cell_type": "code",
   "execution_count": 28,
   "id": "7014bc39",
   "metadata": {},
   "outputs": [
    {
     "data": {
      "text/plain": [
       "{1, 2, 3, 4, 5, 'hello'}"
      ]
     },
     "execution_count": 28,
     "metadata": {},
     "output_type": "execute_result"
    }
   ],
   "source": [
    "s2"
   ]
  },
  {
   "cell_type": "code",
   "execution_count": 29,
   "id": "9b2b38ce",
   "metadata": {},
   "outputs": [
    {
     "name": "stdout",
     "output_type": "stream",
     "text": [
      "1\n",
      "2\n",
      "3\n",
      "4\n",
      "5\n",
      "hello\n"
     ]
    }
   ],
   "source": [
    "for i in s2: #Used to acces antire set using loop\n",
    "    print(i)"
   ]
  },
  {
   "cell_type": "code",
   "execution_count": 30,
   "id": "1907b5c0",
   "metadata": {},
   "outputs": [],
   "source": [
    "x=list(s2)"
   ]
  },
  {
   "cell_type": "code",
   "execution_count": 31,
   "id": "43fc1234",
   "metadata": {},
   "outputs": [
    {
     "data": {
      "text/plain": [
       "{1, 2, 3, 4, 5, 'hello'}"
      ]
     },
     "execution_count": 31,
     "metadata": {},
     "output_type": "execute_result"
    }
   ],
   "source": [
    "s2"
   ]
  },
  {
   "cell_type": "code",
   "execution_count": 32,
   "id": "d5537fe6",
   "metadata": {},
   "outputs": [],
   "source": [
    "s2.update('Hellow world')"
   ]
  },
  {
   "cell_type": "code",
   "execution_count": 33,
   "id": "063dc447",
   "metadata": {},
   "outputs": [
    {
     "data": {
      "text/plain": [
       "{' ', 1, 2, 3, 4, 5, 'H', 'd', 'e', 'hello', 'l', 'o', 'r', 'w'}"
      ]
     },
     "execution_count": 33,
     "metadata": {},
     "output_type": "execute_result"
    }
   ],
   "source": [
    "s2"
   ]
  },
  {
   "cell_type": "code",
   "execution_count": 34,
   "id": "6224bef5",
   "metadata": {},
   "outputs": [
    {
     "data": {
      "text/plain": [
       "set"
      ]
     },
     "execution_count": 34,
     "metadata": {},
     "output_type": "execute_result"
    }
   ],
   "source": [
    "type(s2)"
   ]
  },
  {
   "cell_type": "code",
   "execution_count": 35,
   "id": "35200fff",
   "metadata": {},
   "outputs": [],
   "source": [
    "s2=list(s2)"
   ]
  },
  {
   "cell_type": "code",
   "execution_count": 36,
   "id": "3a8d1c35",
   "metadata": {},
   "outputs": [
    {
     "data": {
      "text/plain": [
       "list"
      ]
     },
     "execution_count": 36,
     "metadata": {},
     "output_type": "execute_result"
    }
   ],
   "source": [
    "type(s2)"
   ]
  },
  {
   "cell_type": "code",
   "execution_count": 37,
   "id": "46717605",
   "metadata": {},
   "outputs": [
    {
     "data": {
      "text/plain": [
       "[1, 2, 3, 4, 5, 'hello', ' ', 'd', 'e', 'o', 'H', 'r', 'w', 'l']"
      ]
     },
     "execution_count": 37,
     "metadata": {},
     "output_type": "execute_result"
    }
   ],
   "source": [
    "s2"
   ]
  },
  {
   "cell_type": "code",
   "execution_count": 39,
   "id": "b4e7c887",
   "metadata": {},
   "outputs": [],
   "source": [
    "s2.clear()"
   ]
  },
  {
   "cell_type": "code",
   "execution_count": 40,
   "id": "ece1f6b0",
   "metadata": {},
   "outputs": [
    {
     "data": {
      "text/plain": [
       "[]"
      ]
     },
     "execution_count": 40,
     "metadata": {},
     "output_type": "execute_result"
    }
   ],
   "source": [
    "s2"
   ]
  },
  {
   "cell_type": "code",
   "execution_count": 41,
   "id": "2cf6ea46",
   "metadata": {},
   "outputs": [
    {
     "data": {
      "text/plain": [
       "set"
      ]
     },
     "execution_count": 41,
     "metadata": {},
     "output_type": "execute_result"
    }
   ],
   "source": [
    "type(s1)"
   ]
  },
  {
   "cell_type": "code",
   "execution_count": 44,
   "id": "48f7f3fa",
   "metadata": {},
   "outputs": [],
   "source": [
    "a=list(s1)"
   ]
  },
  {
   "cell_type": "code",
   "execution_count": 45,
   "id": "16c99ae3",
   "metadata": {},
   "outputs": [
    {
     "data": {
      "text/plain": [
       "[1, 2, 3, 4, 5, 6]"
      ]
     },
     "execution_count": 45,
     "metadata": {},
     "output_type": "execute_result"
    }
   ],
   "source": [
    "a"
   ]
  },
  {
   "cell_type": "code",
   "execution_count": 46,
   "id": "918e64ba",
   "metadata": {},
   "outputs": [],
   "source": [
    "a[-1]='hellow world'"
   ]
  },
  {
   "cell_type": "code",
   "execution_count": 47,
   "id": "2209a769",
   "metadata": {},
   "outputs": [],
   "source": [
    "s2=set(a)"
   ]
  },
  {
   "cell_type": "code",
   "execution_count": 48,
   "id": "118f868c",
   "metadata": {},
   "outputs": [
    {
     "data": {
      "text/plain": [
       "{1, 2, 3, 4, 5, 'hellow world'}"
      ]
     },
     "execution_count": 48,
     "metadata": {},
     "output_type": "execute_result"
    }
   ],
   "source": [
    "s2"
   ]
  },
  {
   "cell_type": "markdown",
   "id": "6f461c1c",
   "metadata": {},
   "source": [
    "# IF Else Statement"
   ]
  },
  {
   "cell_type": "code",
   "execution_count": 49,
   "id": "0e1bc5da",
   "metadata": {},
   "outputs": [
    {
     "name": "stdout",
     "output_type": "stream",
     "text": [
      "Enter any Number5\n"
     ]
    }
   ],
   "source": [
    "x=int(input('Enter any Number'))"
   ]
  },
  {
   "cell_type": "code",
   "execution_count": 50,
   "id": "db5f2cc3",
   "metadata": {},
   "outputs": [
    {
     "name": "stdout",
     "output_type": "stream",
     "text": [
      "Number is Odd\n"
     ]
    }
   ],
   "source": [
    "if x%2==0:\n",
    "    print('Number is Even')\n",
    "else:\n",
    "    print('Number is Odd')\n",
    "    "
   ]
  },
  {
   "cell_type": "code",
   "execution_count": 59,
   "id": "8c64510a",
   "metadata": {},
   "outputs": [
    {
     "name": "stdout",
     "output_type": "stream",
     "text": [
      "Enter the marks: 45\n",
      "Second Vivision\n"
     ]
    }
   ],
   "source": [
    "n=float(input('Enter the marks: '))\n",
    "if n>0 and n<=30:\n",
    "    print('Theksi')\n",
    "elif n>60 and n<=80:\n",
    "    print('First Division')\n",
    "elif n>40 and n<=60:\n",
    "    print('Second Vivision')\n",
    "elif n>=80:\n",
    "    print('Distinction')\n",
    "else:\n",
    "    print('Fail')\n"
   ]
  },
  {
   "cell_type": "code",
   "execution_count": null,
   "id": "7d7f5f91",
   "metadata": {},
   "outputs": [],
   "source": []
  },
  {
   "cell_type": "code",
   "execution_count": null,
   "id": "9fe11b74",
   "metadata": {},
   "outputs": [],
   "source": []
  }
 ],
 "metadata": {
  "kernelspec": {
   "display_name": "Python 3 (ipykernel)",
   "language": "python",
   "name": "python3"
  },
  "language_info": {
   "codemirror_mode": {
    "name": "ipython",
    "version": 3
   },
   "file_extension": ".py",
   "mimetype": "text/x-python",
   "name": "python",
   "nbconvert_exporter": "python",
   "pygments_lexer": "ipython3",
   "version": "3.11.1"
  }
 },
 "nbformat": 4,
 "nbformat_minor": 5
}
