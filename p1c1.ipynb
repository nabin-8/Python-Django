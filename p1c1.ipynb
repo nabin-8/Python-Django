{
 "cells": [
  {
   "cell_type": "code",
   "execution_count": 5,
   "id": "bc75269e",
   "metadata": {
    "scrolled": true
   },
   "outputs": [
    {
     "name": "stdout",
     "output_type": "stream",
     "text": [
      "Hellow\n"
     ]
    }
   ],
   "source": [
    "print(\"Hellow\")"
   ]
  },
  {
   "cell_type": "code",
   "execution_count": 21,
   "id": "9b7b8fc9",
   "metadata": {},
   "outputs": [],
   "source": [
    "c='code library'\n"
   ]
  },
  {
   "cell_type": "code",
   "execution_count": 13,
   "id": "052d19d4",
   "metadata": {},
   "outputs": [
    {
     "data": {
      "text/plain": [
       "str"
      ]
     },
     "execution_count": 13,
     "metadata": {},
     "output_type": "execute_result"
    }
   ],
   "source": [
    "type(c)"
   ]
  },
  {
   "cell_type": "code",
   "execution_count": 23,
   "id": "13ef7dff",
   "metadata": {},
   "outputs": [
    {
     "name": "stdout",
     "output_type": "stream",
     "text": [
      "code library6\n",
      "code library\n"
     ]
    },
    {
     "data": {
      "text/plain": [
       "str"
      ]
     },
     "execution_count": 23,
     "metadata": {},
     "output_type": "execute_result"
    }
   ],
   "source": [
    "input(c)\n",
    "print(c)\n",
    "type(c)"
   ]
  },
  {
   "cell_type": "code",
   "execution_count": 28,
   "id": "371684eb",
   "metadata": {},
   "outputs": [
    {
     "name": "stdout",
     "output_type": "stream",
     "text": [
      "Enter Your Name: nabin\n"
     ]
    }
   ],
   "source": [
    "name=input(\"Enter Your Name: \")"
   ]
  },
  {
   "cell_type": "code",
   "execution_count": null,
   "id": "61b09641",
   "metadata": {},
   "outputs": [],
   "source": []
  }
 ],
 "metadata": {
  "kernelspec": {
   "display_name": "Python 3 (ipykernel)",
   "language": "python",
   "name": "python3"
  },
  "language_info": {
   "codemirror_mode": {
    "name": "ipython",
    "version": 3
   },
   "file_extension": ".py",
   "mimetype": "text/x-python",
   "name": "python",
   "nbconvert_exporter": "python",
   "pygments_lexer": "ipython3",
   "version": "3.11.1"
  }
 },
 "nbformat": 4,
 "nbformat_minor": 5
}
