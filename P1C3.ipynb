{
 "cells": [
  {
   "cell_type": "markdown",
   "id": "e1b35d0e",
   "metadata": {},
   "source": [
    "# Operators"
   ]
  },
  {
   "cell_type": "markdown",
   "id": "dd414f23",
   "metadata": {},
   "source": [
    "Arithemetic Operators"
   ]
  },
  {
   "cell_type": "code",
   "execution_count": 11,
   "id": "697276c7",
   "metadata": {},
   "outputs": [
    {
     "name": "stdout",
     "output_type": "stream",
     "text": [
      "Enter Floating point number1 55\n",
      "Enter Floating point number 66\n",
      "sum of 55.0 + 66.0 = 121.0\n"
     ]
    }
   ],
   "source": [
    "num1=float(input('Enter Floating point number1 '))\n",
    "num2=float(input('Enter Floating point number '))\n",
    "sum1=num1+num2\n",
    "print('sum of',num1 ,'+',num2,'=' ,sum1)"
   ]
  },
  {
   "cell_type": "code",
   "execution_count": 12,
   "id": "8206aa9e",
   "metadata": {},
   "outputs": [
    {
     "data": {
      "text/plain": [
       "121.0"
      ]
     },
     "execution_count": 12,
     "metadata": {},
     "output_type": "execute_result"
    }
   ],
   "source": [
    "sum1\n"
   ]
  },
  {
   "cell_type": "code",
   "execution_count": 14,
   "id": "f02dbe1e",
   "metadata": {},
   "outputs": [],
   "source": [
    "Add =num1+num2\n",
    "mul =num1*num2\n",
    "div =num1/num2\n",
    "sub =num1-num2\n",
    "\n"
   ]
  },
  {
   "cell_type": "markdown",
   "id": "a0db68f7",
   "metadata": {},
   "source": [
    "comparision operator"
   ]
  },
  {
   "cell_type": "code",
   "execution_count": 16,
   "id": "072275d5",
   "metadata": {},
   "outputs": [
    {
     "name": "stdout",
     "output_type": "stream",
     "text": [
      "Enter first number 4\n",
      "Enter second number 5\n"
     ]
    },
    {
     "data": {
      "text/plain": [
       "True"
      ]
     },
     "execution_count": 16,
     "metadata": {},
     "output_type": "execute_result"
    }
   ],
   "source": [
    "a=float(input('Enter first number '))\n",
    "b=float(input('Enter second number '))\n",
    "a>b\n",
    "\n"
   ]
  },
  {
   "cell_type": "code",
   "execution_count": 22,
   "id": "6dbee372",
   "metadata": {},
   "outputs": [
    {
     "data": {
      "text/plain": [
       "True"
      ]
     },
     "execution_count": 22,
     "metadata": {},
     "output_type": "execute_result"
    }
   ],
   "source": [
    "a<b #LessbThen"
   ]
  },
  {
   "cell_type": "code",
   "execution_count": 19,
   "id": "5ea1740e",
   "metadata": {},
   "outputs": [
    {
     "data": {
      "text/plain": [
       "True"
      ]
     },
     "execution_count": 19,
     "metadata": {},
     "output_type": "execute_result"
    }
   ],
   "source": [
    "a!=b #Not Equals to"
   ]
  },
  {
   "cell_type": "code",
   "execution_count": 20,
   "id": "fe0065c5",
   "metadata": {},
   "outputs": [
    {
     "data": {
      "text/plain": [
       "False"
      ]
     },
     "execution_count": 20,
     "metadata": {},
     "output_type": "execute_result"
    }
   ],
   "source": [
    "a>=b#Greater Equals to"
   ]
  },
  {
   "cell_type": "code",
   "execution_count": 21,
   "id": "665736cd",
   "metadata": {},
   "outputs": [
    {
     "data": {
      "text/plain": [
       "True"
      ]
     },
     "execution_count": 21,
     "metadata": {},
     "output_type": "execute_result"
    }
   ],
   "source": [
    "a<=b#Less Equals to"
   ]
  },
  {
   "cell_type": "code",
   "execution_count": 23,
   "id": "1d59c33d",
   "metadata": {},
   "outputs": [
    {
     "data": {
      "text/plain": [
       "False"
      ]
     },
     "execution_count": 23,
     "metadata": {},
     "output_type": "execute_result"
    }
   ],
   "source": [
    "a>b#Greater Then"
   ]
  },
  {
   "cell_type": "markdown",
   "id": "e8d1de85",
   "metadata": {},
   "source": [
    "Logical Operators"
   ]
  },
  {
   "cell_type": "code",
   "execution_count": 24,
   "id": "f4858e59",
   "metadata": {},
   "outputs": [
    {
     "data": {
      "text/plain": [
       "False"
      ]
     },
     "execution_count": 24,
     "metadata": {},
     "output_type": "execute_result"
    }
   ],
   "source": [
    "2<3 and 1<0 #And Operator"
   ]
  },
  {
   "cell_type": "code",
   "execution_count": 25,
   "id": "cba46997",
   "metadata": {},
   "outputs": [
    {
     "data": {
      "text/plain": [
       "True"
      ]
     },
     "execution_count": 25,
     "metadata": {},
     "output_type": "execute_result"
    }
   ],
   "source": [
    "2<5 or 3>5 #OR Operator"
   ]
  },
  {
   "cell_type": "code",
   "execution_count": 26,
   "id": "0de55079",
   "metadata": {},
   "outputs": [
    {
     "data": {
      "text/plain": [
       "True"
      ]
     },
     "execution_count": 26,
     "metadata": {},
     "output_type": "execute_result"
    }
   ],
   "source": [
    "not(2<3 and 1<0)#Not Operator"
   ]
  },
  {
   "cell_type": "markdown",
   "id": "4f2311c9",
   "metadata": {},
   "source": [
    "# Data Types"
   ]
  },
  {
   "cell_type": "markdown",
   "id": "6acbc06f",
   "metadata": {},
   "source": [
    "String"
   ]
  },
  {
   "cell_type": "code",
   "execution_count": 27,
   "id": "cec58254",
   "metadata": {},
   "outputs": [],
   "source": [
    "x = 'I am Code Liberior'"
   ]
  },
  {
   "cell_type": "code",
   "execution_count": 28,
   "id": "d460c7bc",
   "metadata": {},
   "outputs": [
    {
     "data": {
      "text/plain": [
       "18"
      ]
     },
     "execution_count": 28,
     "metadata": {},
     "output_type": "execute_result"
    }
   ],
   "source": [
    "len(x)"
   ]
  },
  {
   "cell_type": "code",
   "execution_count": 30,
   "id": "0b4028d5",
   "metadata": {},
   "outputs": [
    {
     "data": {
      "text/plain": [
       "'Code Liberior'"
      ]
     },
     "execution_count": 30,
     "metadata": {},
     "output_type": "execute_result"
    }
   ],
   "source": [
    "x[5:18]"
   ]
  },
  {
   "cell_type": "code",
   "execution_count": 33,
   "id": "5c9588a6",
   "metadata": {},
   "outputs": [
    {
     "data": {
      "text/plain": [
       "'am Code Liberior'"
      ]
     },
     "execution_count": 33,
     "metadata": {},
     "output_type": "execute_result"
    }
   ],
   "source": [
    "x[2::]"
   ]
  },
  {
   "cell_type": "code",
   "execution_count": 35,
   "id": "79748ff6",
   "metadata": {},
   "outputs": [
    {
     "data": {
      "text/plain": [
       "'Code'"
      ]
     },
     "execution_count": 35,
     "metadata": {},
     "output_type": "execute_result"
    }
   ],
   "source": [
    "x[5:9]"
   ]
  },
  {
   "cell_type": "code",
   "execution_count": 39,
   "id": "aa5a5f73",
   "metadata": {},
   "outputs": [
    {
     "data": {
      "text/plain": [
       "'Liberio'"
      ]
     },
     "execution_count": 39,
     "metadata": {},
     "output_type": "execute_result"
    }
   ],
   "source": [
    "x[-8:-1]"
   ]
  },
  {
   "cell_type": "code",
   "execution_count": 40,
   "id": "fa77de67",
   "metadata": {},
   "outputs": [
    {
     "data": {
      "text/plain": [
       "'roirebiL edoC ma I'"
      ]
     },
     "execution_count": 40,
     "metadata": {},
     "output_type": "execute_result"
    }
   ],
   "source": [
    "x[::-1]"
   ]
  },
  {
   "cell_type": "code",
   "execution_count": 42,
   "id": "96308d68",
   "metadata": {},
   "outputs": [
    {
     "data": {
      "text/plain": [
       "'de Liberior'"
      ]
     },
     "execution_count": 42,
     "metadata": {},
     "output_type": "execute_result"
    }
   ],
   "source": [
    "x[7::]"
   ]
  },
  {
   "cell_type": "code",
   "execution_count": 50,
   "id": "cf01a4d8",
   "metadata": {},
   "outputs": [
    {
     "name": "stdout",
     "output_type": "stream",
     "text": [
      "Ener your name Nabin Acharya\n",
      "ayrahcA nibaN\n"
     ]
    }
   ],
   "source": [
    "sty=input('Ener your name ')\n",
    "s=sty[::-1]\n",
    "print(s)"
   ]
  },
  {
   "cell_type": "code",
   "execution_count": 59,
   "id": "0784e7c9",
   "metadata": {},
   "outputs": [],
   "source": [
    "bb='i/am/python/developer'"
   ]
  },
  {
   "cell_type": "code",
   "execution_count": 60,
   "id": "540edae0",
   "metadata": {},
   "outputs": [
    {
     "data": {
      "text/plain": [
       "['i', 'am', 'python', 'developer']"
      ]
     },
     "execution_count": 60,
     "metadata": {},
     "output_type": "execute_result"
    }
   ],
   "source": [
    "y=bb.split('/')\n",
    "y"
   ]
  },
  {
   "cell_type": "markdown",
   "id": "e0733835",
   "metadata": {},
   "source": [
    "List"
   ]
  },
  {
   "cell_type": "code",
   "execution_count": 64,
   "id": "34ccb403",
   "metadata": {},
   "outputs": [
    {
     "data": {
      "text/plain": [
       "'I/am/python/developer'"
      ]
     },
     "execution_count": 64,
     "metadata": {},
     "output_type": "execute_result"
    }
   ],
   "source": [
    "bb.capitalize()"
   ]
  },
  {
   "cell_type": "markdown",
   "id": "ef83c1ac",
   "metadata": {},
   "source": [
    "y.Tap to see functions"
   ]
  },
  {
   "cell_type": "code",
   "execution_count": 65,
   "id": "c1c69ea9",
   "metadata": {},
   "outputs": [
    {
     "data": {
      "text/plain": [
       "'developer'"
      ]
     },
     "execution_count": 65,
     "metadata": {},
     "output_type": "execute_result"
    }
   ],
   "source": [
    "y.pop()"
   ]
  },
  {
   "cell_type": "code",
   "execution_count": 67,
   "id": "b6a542e8",
   "metadata": {},
   "outputs": [
    {
     "data": {
      "text/plain": [
       "['i', 'am', 'python']"
      ]
     },
     "execution_count": 67,
     "metadata": {},
     "output_type": "execute_result"
    }
   ],
   "source": [
    "y"
   ]
  },
  {
   "cell_type": "code",
   "execution_count": 68,
   "id": "d3306a48",
   "metadata": {},
   "outputs": [],
   "source": [
    "y.append('Developer')"
   ]
  },
  {
   "cell_type": "code",
   "execution_count": 69,
   "id": "bb8f204b",
   "metadata": {},
   "outputs": [
    {
     "data": {
      "text/plain": [
       "['i', 'am', 'python', 'Developer']"
      ]
     },
     "execution_count": 69,
     "metadata": {},
     "output_type": "execute_result"
    }
   ],
   "source": [
    "y"
   ]
  },
  {
   "cell_type": "code",
   "execution_count": 71,
   "id": "4c2827b7",
   "metadata": {},
   "outputs": [
    {
     "data": {
      "text/plain": [
       "2"
      ]
     },
     "execution_count": 71,
     "metadata": {},
     "output_type": "execute_result"
    }
   ],
   "source": [
    "bb.count('o')"
   ]
  },
  {
   "cell_type": "code",
   "execution_count": 73,
   "id": "f62cefde",
   "metadata": {},
   "outputs": [
    {
     "data": {
      "text/plain": [
       "'I/AM/PYTHON/DEVELOPER'"
      ]
     },
     "execution_count": 73,
     "metadata": {},
     "output_type": "execute_result"
    }
   ],
   "source": [
    "bb.swapcase()"
   ]
  },
  {
   "cell_type": "code",
   "execution_count": null,
   "id": "dfec6850",
   "metadata": {},
   "outputs": [],
   "source": []
  }
 ],
 "metadata": {
  "kernelspec": {
   "display_name": "Python 3 (ipykernel)",
   "language": "python",
   "name": "python3"
  },
  "language_info": {
   "codemirror_mode": {
    "name": "ipython",
    "version": 3
   },
   "file_extension": ".py",
   "mimetype": "text/x-python",
   "name": "python",
   "nbconvert_exporter": "python",
   "pygments_lexer": "ipython3",
   "version": "3.11.1"
  }
 },
 "nbformat": 4,
 "nbformat_minor": 5
}
